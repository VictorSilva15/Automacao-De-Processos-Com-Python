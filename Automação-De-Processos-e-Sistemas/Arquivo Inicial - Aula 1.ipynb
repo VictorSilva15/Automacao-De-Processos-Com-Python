{
 "cells": [
  {
   "cell_type": "markdown",
   "metadata": {},
   "source": [
    "# Automação de Sistemas e Processos com Python\n",
    "\n",
    "### Desafio:\n",
    "\n",
    "Todos os dias, o nosso sistema atualiza as vendas do dia anterior.\n",
    "O seu trabalho diário, como analista, é enviar um e-mail para a diretoria, assim que começar a trabalhar, com o faturamento e a quantidade de produtos vendidos no dia anterior\n",
    "\n",
    "E-mail da diretoria: seugmail+diretoria@gmail.com<br>\n",
    "Local onde o sistema disponibiliza as vendas do dia anterior: https://drive.google.com/drive/folders/1mhXZ3JPAnekXP_4vX7Z_sJj35VWqayaR?usp=sharing\n",
    "\n",
    "Para resolver isso, vamos usar o pyautogui, uma biblioteca de automação de comandos do mouse e do teclado"
   ]
  },
  {
   "cell_type": "code",
   "execution_count": 27,
   "metadata": {},
   "outputs": [],
   "source": [
    "# Importando bibliotecas\n",
    "import pyautogui\n",
    "import time\n",
    "import pyperclip\n",
    "import pandas as pd\n",
    "\n",
    "pyautogui.PAUSE = 1\n",
    "\n",
    "pyautogui.alert(\"O programa entrará em execução, aperte OK e não mexa em nada!\")\n",
    "pyautogui.hotkey(\"ctrl\", \"t\")\n",
    "link = \"https://drive.google.com/drive/folders/1wRTFw0sUVBjRr4hW5U9LF7DjLixRyxym\"\n",
    "pyperclip.copy(link)\n",
    "pyautogui.hotkey(\"ctrl\",\"v\")\n",
    "pyautogui.press(\"enter\")\n",
    "time.sleep(7)\n",
    "\n",
    "pyautogui.click(1133, 431)\n",
    "pyautogui.click(1228, 193)\n",
    "pyautogui.click(1045, 562)\n",
    "time.sleep(7)\n",
    "df = pd.read_excel(r'C:/Users/Cliente/Downloads/Vendas - Dez.xlsx') #faz a leitura da tabela, e guada na variável df\n",
    "\n",
    "#display(df) mostra a tabela\n",
    "\n",
    "faturamento = df[\"Valor Final\"].sum() #soma os valores da coluna Valor Final\n",
    "qtde_produtos = df[\"Quantidade\"].sum() #soma os valores da coluna Quantidade\n",
    "\n",
    "pyautogui.hotkey(\"ctrl\", \"t\")\n",
    "pyautogui.write(\"mail.google.com\")\n",
    "pyautogui.press(\"enter\")\n",
    "time.sleep(15)\n",
    "\n",
    "pyautogui.click(77, 193)\n",
    "time.sleep(5)\n",
    "pyautogui.write(\"victor.silvaPC@hotmail.com\")\n",
    "pyautogui.press('tab')\n",
    "pyautogui.press('tab')\n",
    "\n",
    "assunto = \"Relatório de vendas de ontem\"\n",
    "pyperclip.copy(assunto)\n",
    "pyautogui.hotkey(\"ctrl\",\"v\")\n",
    "pyautogui.press(\"tab\")\n",
    "\n",
    "texto = f\"\"\"\n",
    "Prezados, bom dia\n",
    "    \n",
    "O faturamento de ontem foi de: R${faturamento:,.2f} \n",
    "A quantidade de produtos foi de: R${qtde_produtos:,}\n",
    "\n",
    "Abs\n",
    "Victor\"\"\"\n",
    "\n",
    "pyperclip.copy(texto)\n",
    "pyautogui.hotkey(\"ctrl\", \"v\")\n",
    "pyautogui.hotkey(\"ctrl\", \"enter\")\n"
   ]
  }
 ],
 "metadata": {
  "kernelspec": {
   "display_name": "Python 3",
   "language": "python",
   "name": "python3"
  },
  "language_info": {
   "codemirror_mode": {
    "name": "ipython",
    "version": 3
   },
   "file_extension": ".py",
   "mimetype": "text/x-python",
   "name": "python",
   "nbconvert_exporter": "python",
   "pygments_lexer": "ipython3",
   "version": "3.8.5"
  }
 },
 "nbformat": 4,
 "nbformat_minor": 4
}
